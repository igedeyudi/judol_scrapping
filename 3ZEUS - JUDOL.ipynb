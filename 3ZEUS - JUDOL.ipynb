{
 "cells": [
  {
   "cell_type": "code",
   "execution_count": 1,
   "id": "692780b6",
   "metadata": {},
   "outputs": [],
   "source": [
    "from selenium import webdriver\n",
    "from selenium.webdriver.chrome.service import Service\n",
    "from webdriver_manager.chrome import ChromeDriverManager\n",
    "from selenium.webdriver.common.by import By\n",
    "from selenium.webdriver.support.ui import WebDriverWait\n",
    "from selenium.webdriver.support import expected_conditions as EC\n",
    "import pandas as pd\n",
    "import time"
   ]
  },
  {
   "cell_type": "code",
   "execution_count": 3,
   "id": "5cea41e6",
   "metadata": {},
   "outputs": [],
   "source": [
    "# Create a new Chrome web driver instance\n",
    "driver = webdriver.Chrome(service=Service(ChromeDriverManager().install()))\n",
    "\n",
    "# Define the search query\n",
    "query = \"site:.go.id zeus\"\n",
    "\n",
    "# Construct the initial Google search URL\n",
    "google_search_url = f\"https://www.google.com/search?q={query}\"\n",
    "\n",
    "# Navigate to the Google search results page\n",
    "driver.get(google_search_url)\n",
    "\n",
    "# Extract the URLs from the search results\n",
    "url_list = []\n",
    "while True:\n",
    "    # Wait for the search results to load\n",
    "    WebDriverWait(driver, 20).until(\n",
    "        EC.presence_of_element_located((By.XPATH, \"//a[h3]\"))\n",
    "    )\n",
    "\n",
    "    # Extract URLs from the current page\n",
    "    results = driver.find_elements(By.XPATH, \"//a[h3]\")\n",
    "    for result in results:\n",
    "        link = result.get_attribute(\"href\")\n",
    "        url_list.append(link)\n",
    "\n",
    "    # Try to find the \"Next\" page button\n",
    "    try:\n",
    "        next_page_button = driver.find_element(By.ID, \"pnnext\")\n",
    "        next_page_button.click()\n",
    "        time.sleep(2)  # Add a small delay to avoid overloading the server\n",
    "    except:\n",
    "        # If no \"Next\" button is found, we've reached the last page\n",
    "        break\n",
    "\n",
    "# Create a DataFrame from the extracted URLs\n",
    "df = pd.DataFrame({'url': url_list})\n",
    "\n",
    "# Write the DataFrame to an Excel file\n",
    "df.to_excel('3zeus.xlsx', index=False)\n",
    "\n",
    "# Close the web driver\n",
    "driver.quit()"
   ]
  },
  {
   "cell_type": "code",
   "execution_count": null,
   "id": "cfc1a055",
   "metadata": {},
   "outputs": [],
   "source": []
  }
 ],
 "metadata": {
  "kernelspec": {
   "display_name": "Python 3 (ipykernel)",
   "language": "python",
   "name": "python3"
  },
  "language_info": {
   "codemirror_mode": {
    "name": "ipython",
    "version": 3
   },
   "file_extension": ".py",
   "mimetype": "text/x-python",
   "name": "python",
   "nbconvert_exporter": "python",
   "pygments_lexer": "ipython3",
   "version": "3.9.18"
  },
  "toc": {
   "base_numbering": 1,
   "nav_menu": {},
   "number_sections": true,
   "sideBar": true,
   "skip_h1_title": false,
   "title_cell": "Table of Contents",
   "title_sidebar": "Contents",
   "toc_cell": false,
   "toc_position": {},
   "toc_section_display": true,
   "toc_window_display": false
  }
 },
 "nbformat": 4,
 "nbformat_minor": 5
}
